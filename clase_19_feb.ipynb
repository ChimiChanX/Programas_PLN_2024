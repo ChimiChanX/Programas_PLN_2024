{
 "cells": [
  {
   "cell_type": "code",
   "execution_count": null,
   "metadata": {},
   "outputs": [],
   "source": [
    "import os \n",
    "\n",
    "#carpeta_nombre=\"Documentos\\\\\" \n",
    "archivo_nombre=\"nada.txt\"\n",
    "\n",
    "print(\"lectura del archivo: \\n\",open(archivo_nombre,\"r\").read())  #.read() sirve para leer archivos\n",
    "\n",
    "with open(archivo_nombre,\"r\") as archivo:\n",
    "    texto=archivo.read() \n",
    "palabras_lista=texto.split() #separar palabras .split() sirve para separar palabras\n",
    "print(\"palabras separadas: \\n\",palabras_lista) #imprimir palabras separadas\n",
    "palabras_lista.sort()  #ordenar palabras .sort() sirve para ordenar listas\n",
    "print(\"palabras ordenadas: \\n\")\n",
    "for palabra in palabras_lista: \n",
    "    print(palabra)   #imprimir palabras ordenadas\n"
   ]
  },
  {
   "cell_type": "code",
   "execution_count": null,
   "metadata": {},
   "outputs": [],
   "source": [
    "import os\n",
    "\n",
    "#carpeta_nombre=\"Documentos\\\\\"\n",
    "archivo_nombre=\"nada.txt\"\n",
    "\n",
    "with open(archivo_nombre, \"r\") as archivo:\n",
    "    texto=archivo.read()\n",
    "\n",
    "simbolos=[\"(\",\")\",\",\",\".\",\";\",\":\",\"\\\"\"]\n",
    "\n",
    "for simbolo in simbolos:\n",
    "    texto=texto.replace(simbolo, \" \" + simbolo + \" \")\n",
    "\n",
    "palabras_lista=texto.split()\n",
    "palabras_lista.sort()\n",
    "for palabra in palabras_lista: \n",
    "    print(palabra)\n",
    "\n"
   ]
  },
  {
   "cell_type": "code",
   "execution_count": 29,
   "metadata": {},
   "outputs": [
    {
     "name": "stdout",
     "output_type": "stream",
     "text": [
      "comilla\n",
      "comilla\n"
     ]
    }
   ],
   "source": [
    "import re\n",
    "\n",
    "# carpeta_nombre = \"Documentos\\\\\"\n",
    "archivo_nombre = \"nada.txt\"\n",
    "\n",
    "with open(archivo_nombre, \"r\") as archivo:\n",
    "    texto = archivo.read()\n",
    "\n",
    "expresion_regular = re.compile(r\"comilla\")\n",
    "resultado_busqueda = expresion_regular.search(texto)\n",
    "\n",
    "if resultado_busqueda:\n",
    "    print(resultado_busqueda.group(0))\n",
    "else:\n",
    "    print(\"La expresión regular no fue encontrada en el texto.\")\n",
    "\n",
    "expresion_regular=re.compile(r\"comilla*\")\n",
    "resultado_busqueda=expresion_regular.search(texto)\n",
    "print(resultado_busqueda.group(0))\n"
   ]
  },
  {
   "cell_type": "code",
   "execution_count": null,
   "metadata": {},
   "outputs": [],
   "source": []
  }
 ],
 "metadata": {
  "kernelspec": {
   "display_name": "Python 3",
   "language": "python",
   "name": "python3"
  },
  "language_info": {
   "codemirror_mode": {
    "name": "ipython",
    "version": 3
   },
   "file_extension": ".py",
   "mimetype": "text/x-python",
   "name": "python",
   "nbconvert_exporter": "python",
   "pygments_lexer": "ipython3",
   "version": "3.12.0"
  }
 },
 "nbformat": 4,
 "nbformat_minor": 2
}
