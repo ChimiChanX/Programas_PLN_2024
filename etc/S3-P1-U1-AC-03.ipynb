{
 "cells": [
  {
   "cell_type": "markdown",
   "metadata": {},
   "source": [
    "# Luis Fernando Figueroa Silva"
   ]
  },
  {
   "cell_type": "code",
   "execution_count": 7,
   "metadata": {},
   "outputs": [
    {
     "name": "stdout",
     "output_type": "stream",
     "text": [
      "     PassengerId  Survived  Pclass  \\\n",
      "0            892         0       3   \n",
      "1            893         1       3   \n",
      "2            894         0       2   \n",
      "3            895         0       3   \n",
      "4            896         1       3   \n",
      "..           ...       ...     ...   \n",
      "413         1305         0       3   \n",
      "414         1306         1       1   \n",
      "415         1307         0       3   \n",
      "416         1308         0       3   \n",
      "417         1309         0       3   \n",
      "\n",
      "                                             Name     Sex   Age  SibSp  Parch  \\\n",
      "0                                Kelly, Mr. James    male  34.5      0      0   \n",
      "1                Wilkes, Mrs. James (Ellen Needs)  female  47.0      1      0   \n",
      "2                       Myles, Mr. Thomas Francis    male  62.0      0      0   \n",
      "3                                Wirz, Mr. Albert    male  27.0      0      0   \n",
      "4    Hirvonen, Mrs. Alexander (Helga E Lindqvist)  female  22.0      1      1   \n",
      "..                                            ...     ...   ...    ...    ...   \n",
      "413                            Spector, Mr. Woolf    male   NaN      0      0   \n",
      "414                  Oliva y Ocana, Dona. Fermina  female  39.0      0      0   \n",
      "415                  Saether, Mr. Simon Sivertsen    male  38.5      0      0   \n",
      "416                           Ware, Mr. Frederick    male   NaN      0      0   \n",
      "417                      Peter, Master. Michael J    male   NaN      1      1   \n",
      "\n",
      "                 Ticket      Fare Cabin Embarked  \n",
      "0                330911    7.8292   NaN        Q  \n",
      "1                363272    7.0000   NaN        S  \n",
      "2                240276    9.6875   NaN        Q  \n",
      "3                315154    8.6625   NaN        S  \n",
      "4               3101298   12.2875   NaN        S  \n",
      "..                  ...       ...   ...      ...  \n",
      "413           A.5. 3236    8.0500   NaN        S  \n",
      "414            PC 17758  108.9000  C105        C  \n",
      "415  SOTON/O.Q. 3101262    7.2500   NaN        S  \n",
      "416              359309    8.0500   NaN        S  \n",
      "417                2668   22.3583   NaN        C  \n",
      "\n",
      "[418 rows x 12 columns]\n"
     ]
    },
    {
     "ename": "NameError",
     "evalue": "name 'ruta' is not defined",
     "output_type": "error",
     "traceback": [
      "\u001b[1;31m---------------------------------------------------------------------------\u001b[0m",
      "\u001b[1;31mNameError\u001b[0m                                 Traceback (most recent call last)",
      "Cell \u001b[1;32mIn[7], line 12\u001b[0m\n\u001b[0;32m      9\u001b[0m \u001b[38;5;66;03m# Ahora 'datos' es un DataFrame de pandas que contiene la información del archivo CSV\u001b[39;00m\n\u001b[0;32m     10\u001b[0m \u001b[38;5;28mprint\u001b[39m(datos)\n\u001b[1;32m---> 12\u001b[0m df \u001b[38;5;241m=\u001b[39m pd\u001b[38;5;241m.\u001b[39mread_csv(\u001b[43mruta\u001b[49m, header\u001b[38;5;241m=\u001b[39m\u001b[38;5;28;01mNone\u001b[39;00m)\n\u001b[0;32m     13\u001b[0m df\u001b[38;5;241m.\u001b[39mhead(),  df\u001b[38;5;241m.\u001b[39mtail(),  df\u001b[38;5;241m.\u001b[39mshape()   \n\u001b[0;32m     14\u001b[0m df\u001b[38;5;241m.\u001b[39mdescribe()\n",
      "\u001b[1;31mNameError\u001b[0m: name 'ruta' is not defined"
     ]
    }
   ],
   "source": [
    "import pandas as pd\n",
    "\n",
    "# Ruta al archivo CSV\n",
    "archivo_csv = 'tested.csv'\n",
    "\n",
    "# Leer el archivo CSV con pandas\n",
    "datos = pd.read_csv(archivo_csv)\n",
    "\n",
    "# Ahora 'datos' es un DataFrame de pandas \n",
    "# que contiene la información del archivo CSV\n",
    "print(datos)\n",
    "\n",
    "df = pd.read_csv(ruta, header=None)\n",
    "df.head(),  df.tail(),  df.shape()   \n",
    "df.describe()\n",
    "df. columns.values\n",
    "df.dtypes\n"
   ]
  }
 ],
 "metadata": {
  "kernelspec": {
   "display_name": "Python 3",
   "language": "python",
   "name": "python3"
  },
  "language_info": {
   "codemirror_mode": {
    "name": "ipython",
    "version": 3
   },
   "file_extension": ".py",
   "mimetype": "text/x-python",
   "name": "python",
   "nbconvert_exporter": "python",
   "pygments_lexer": "ipython3",
   "version": "3.12.0"
  }
 },
 "nbformat": 4,
 "nbformat_minor": 2
}
