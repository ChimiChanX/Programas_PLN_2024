{
 "cells": [
  {
   "cell_type": "markdown",
   "metadata": {},
   "source": [
    "# Universidad de colima\n",
    "### campus coquimatlan \n",
    "### 6B-Análisis de Datos y Visualización\n",
    "### S2-P1-U1-AC-01 CRUD Operations  Using List Structures in Python\n",
    "### Profesor: VERDUZCO RAMIREZ JESUS ALBERTO\n",
    "### Alumno: LUIS FERNANDO FIGUEROA SILVA\n",
    "#### programa en Python para realizar las cuatro operaciones (CRUD), más una función para listar los elementos de la lista."
   ]
  },
  {
   "cell_type": "markdown",
   "metadata": {},
   "source": [
    "## 5 things learned in this assignment:\n",
    "### 1. I learned to use cells better.\n",
    "### 2. My doubts were clarified when using Markdown cells.\n",
    "### 3. There was feedback when creating functions in python.\n",
    "### 4. There was good logical development on the part of the student.\n",
    "### 5. Empty lists were implemented that during the program are executed and saved within the assigned memory, but when the program ends these are deleted."
   ]
  },
  {
   "cell_type": "code",
   "execution_count": 4,
   "metadata": {},
   "outputs": [
    {
     "name": "stdout",
     "output_type": "stream",
     "text": [
      "\n",
      " Panel: \n",
      "\n",
      "1. Agregar dato\n",
      "2. Eliminar dato\n",
      "3. Actualizar dato\n",
      "4. Mostrar datos\n",
      "5. Salir\n",
      "Opción seleccionada incorrecta. Por favor ingrese un número del 1 al 5.\n",
      "\n",
      " Panel: \n",
      "\n",
      "1. Agregar dato\n",
      "2. Eliminar dato\n",
      "3. Actualizar dato\n",
      "4. Mostrar datos\n",
      "5. Salir\n",
      "Opción seleccionada incorrecta. Por favor ingrese un número del 1 al 5.\n",
      "\n",
      " Panel: \n",
      "\n",
      "1. Agregar dato\n",
      "2. Eliminar dato\n",
      "3. Actualizar dato\n",
      "4. Mostrar datos\n",
      "5. Salir\n",
      "Hasta pronto, Lo quiero mucho!!.\n"
     ]
    }
   ],
   "source": [
    "datos = []\n",
    "\n",
    "def agregar_dato():\n",
    "    dato = input(\"Ingrese un nuevo dato: \")\n",
    "    datos.append(dato)\n",
    "    print(\"Dato agregado correctamente.\")\n",
    "\n",
    "def eliminar_dato():\n",
    "    if datos:\n",
    "        dato = input(\"Ingrese el dato que desea eliminar: \")\n",
    "        if dato in datos:\n",
    "            datos.remove(dato)\n",
    "            print(\"Dato eliminado correctamente.\")\n",
    "        else:\n",
    "            print(\"El dato no existe en la lista.\")\n",
    "    else:\n",
    "        print(\"La lista esta vacia.\")\n",
    "\n",
    "def actualizar_dato():\n",
    "    if datos:\n",
    "        dato_actual = input(\"Ingrese el dato que desea actualizar: \")\n",
    "        if dato_actual in datos:\n",
    "            indice = datos.index(dato_actual)\n",
    "            nuevo_dato = input(\"Ingrese el nuevo dato: \")\n",
    "            datos[indice] = nuevo_dato\n",
    "            print(\"Dato actualizado correctamente.\")\n",
    "        else:\n",
    "            print(\"El dato no existe en la lista.\")\n",
    "    else:\n",
    "        print(\"La lista esta vacia.\")\n",
    "\n",
    "def mostrar_datos():\n",
    "    if datos:\n",
    "        print(\"Datos en la lista:\")\n",
    "        for dato in datos:\n",
    "            print(dato)\n",
    "    else:\n",
    "        print(\"La lista esta vacia.\")\n",
    "\n",
    "while True:\n",
    "    print(\"\\n Panel: \\n\")\n",
    "    print(\"1. Agregar dato\")\n",
    "    print(\"2. Eliminar dato\")\n",
    "    print(\"3. Actualizar dato\")\n",
    "    print(\"4. Mostrar datos\")\n",
    "    print(\"5. Salir\")\n",
    "\n",
    "    opcion = input(\"Seleccione la accion deseada: \")\n",
    "\n",
    "    if opcion == \"1\":\n",
    "        agregar_dato()\n",
    "    elif opcion == \"2\":\n",
    "        eliminar_dato()\n",
    "    elif opcion == \"3\":\n",
    "        actualizar_dato()\n",
    "    elif opcion == \"4\":\n",
    "        mostrar_datos()\n",
    "    elif opcion == \"5\":\n",
    "        print(\"Hasta pronto, Lo quiero mucho!!.\")\n",
    "        break\n",
    "    else:\n",
    "        print(\"Opción seleccionada incorrecta. Por favor ingrese un número del 1 al 5.\")"
   ]
  }
 ],
 "metadata": {
  "kernelspec": {
   "display_name": "Python 3",
   "language": "python",
   "name": "python3"
  },
  "language_info": {
   "codemirror_mode": {
    "name": "ipython",
    "version": 3
   },
   "file_extension": ".py",
   "mimetype": "text/x-python",
   "name": "python",
   "nbconvert_exporter": "python",
   "pygments_lexer": "ipython3",
   "version": "3.12.0"
  }
 },
 "nbformat": 4,
 "nbformat_minor": 2
}
