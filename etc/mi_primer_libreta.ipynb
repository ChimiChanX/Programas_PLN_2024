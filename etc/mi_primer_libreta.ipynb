{
 "cells": [
  {
   "cell_type": "markdown",
   "metadata": {},
   "source": [
    "#### Sesion del 13 de febrero del 2024\n",
    "### Introduccion a python\n",
    "#### **python** es un lenguaje de programacion orientadoa a objetos. Una de las ventajas de python es la curva reducida de aprendizaje, y tamien cuenta la gran cantidad de 'librerias' para IA \n"
   ]
  },
  {
   "cell_type": "code",
   "execution_count": 43,
   "metadata": {},
   "outputs": [
    {
     "name": "stdout",
     "output_type": "stream",
     "text": [
      "hola, desde el salon de 6B\n"
     ]
    }
   ],
   "source": [
    "#saludar en python \n",
    "saludo=(\"hola, desde el salon de 6B\")\n",
    "print(saludo)"
   ]
  },
  {
   "cell_type": "code",
   "execution_count": 44,
   "metadata": {},
   "outputs": [
    {
     "name": "stdout",
     "output_type": "stream",
     "text": [
      "tu nombre es:  luis}\n"
     ]
    }
   ],
   "source": [
    "#Introduccion de datos (input)\n",
    "myName=input(\"ingresa tu nombre por favor: \")\n",
    "print(f'tu nombre es: ', myName)"
   ]
  },
  {
   "cell_type": "code",
   "execution_count": 45,
   "metadata": {},
   "outputs": [
    {
     "name": "stdout",
     "output_type": "stream",
     "text": [
      "el numero ingresado elevado a la potencia 2 es : 144\n"
     ]
    }
   ],
   "source": [
    "#ingresando numeros\n",
    "n1=int(input(\"ingresa un numero entero: \"))\n",
    "print('el numero ingresado elevado a la potencia 2 es : {}'.format (n1**2))"
   ]
  },
  {
   "cell_type": "code",
   "execution_count": 46,
   "metadata": {},
   "outputs": [
    {
     "name": "stdout",
     "output_type": "stream",
     "text": [
      "el area del circulo es: 452.39 \n"
     ]
    }
   ],
   "source": [
    "import math as m\n",
    "#ingresar flotantes\n",
    "radio=float(input(\"ingresa el valor del radio: \"))\n",
    "print(\"el area del circulo es: {:.2f} \".format((m.pi)*(m.pow(radio,2))))"
   ]
  },
  {
   "cell_type": "code",
   "execution_count": 1,
   "metadata": {},
   "outputs": [
    {
     "name": "stdout",
     "output_type": "stream",
     "text": [
      "validando triangulos\n",
      "los lados l1: 12, l2: 12 y l3: 12 forman un triangulo\n",
      "El triangulo formado por: l1: 12, l2: 12 y l3: 12 es quilatero\n",
      "Fin del programa :* \n"
     ]
    }
   ],
   "source": [
    "#estructuras selectivas \n",
    "#if, elif, else...\n",
    "#escribe un scrip para capura de tres numero  y validar si forman un triangulo \n",
    "\n",
    "flag = False\n",
    "ciclo= \"S\"\n",
    "while ciclo == \"S\" or ciclo == \"s\":\n",
    "\n",
    "    print(\"validando triangulos\")\n",
    "    l1=int(input(\"ingresa el primer lado: \"))\n",
    "    l2=int(input(\"ingresa el segundo lado: \"))\n",
    "    l3=int(input(\"ingresa el tercer lado: \"))\n",
    "\n",
    "    if ((l1+l2) > l3 and (l2+l3)>l1 and (l3+l1)>l2):\n",
    "            print(\"los lados l1: {}, l2: {} y l3: {} forman un triangulo\".format(l1, l2, l3))\n",
    "            flag = True\n",
    "    else: \n",
    "            print(\"los lados l1: {}, l2: {} y l3: {} NO forman un triangulo\".format(l1, l2, l3))\n",
    "\n",
    "    #agrega el codigo para identificar el tipo de triangulo de acuerdo a sus lados:\n",
    "    #equilatero, escaleno e isoceles\n",
    "    if (flag):\n",
    "        #es un triangulo\n",
    "        if(l1==l2) and (l2==l3) and (l1==l3):\n",
    "            print(\"El triangulo formado por: l1: {}, l2: {} y l3: {} es quilatero\".format(l1, l2, l3) )\n",
    "        elif (l1==l2) and (l2==l3) or (l1==l3):\n",
    "            print(\"El triangulo formado por: l1: {}, l2: {} y l3: {} es isoceles\".format(l1, l2, l3) )\n",
    "        else:\n",
    "            print(\"El triangulo formado por: l1: {}, l2: {} y l3: {} es escaleno\".format(l1, l2, l3) )\n",
    "\n",
    "    ciclo = input(\"¿Deseas otro calculo? si/no: \")\n",
    "    flag = False\n",
    "else: \n",
    "    print(\"Fin del programa : \")\n"
   ]
  },
  {
   "cell_type": "code",
   "execution_count": 48,
   "metadata": {},
   "outputs": [
    {
     "name": "stdout",
     "output_type": "stream",
     "text": [
      "el valor del elemento: 1\n",
      "el valor del elemento: 4\n",
      "el valor del elemento: 7\n",
      "el valor del elemento: 8\n",
      "el valor del elemento: 7\n",
      "el valor del elemento: 6\n",
      "el valor del elemento: 5\n",
      "el valor del elemento: 4\n",
      "el valor del elemento: 3\n",
      "el valor del elemento: 2\n"
     ]
    }
   ],
   "source": [
    "#contar de manera acendente    \n",
    "for i in range(1, 8, 3):\n",
    "    print(\"el valor del elemento: {}\".format(i))\n",
    "#contar de manera decendente\n",
    "for i in range(8, 1, -1):\n",
    "    print(\"el valor del elemento: {}\".format(i))"
   ]
  },
  {
   "cell_type": "markdown",
   "metadata": {},
   "source": [
    "### Listas de datos en python\n",
    "Las listas son estructuras o colecciones que nos permiten guardad de manera temporal datos de distintos tipos y son MUTABLES."
   ]
  },
  {
   "cell_type": "code",
   "execution_count": 49,
   "metadata": {},
   "outputs": [
    {
     "data": {
      "text/plain": [
       "[]"
      ]
     },
     "execution_count": 49,
     "metadata": {},
     "output_type": "execute_result"
    }
   ],
   "source": [
    "#creamos una lista vacia \n",
    "lista = []\n",
    "lista "
   ]
  },
  {
   "cell_type": "code",
   "execution_count": 50,
   "metadata": {},
   "outputs": [
    {
     "name": "stdout",
     "output_type": "stream",
     "text": [
      "Item de la lista: 1\n",
      "Item de la lista: 22.3\n",
      "Item de la lista: False\n",
      "Item de la lista: Hola\n",
      "Item de la lista: H\n",
      "Item de la lista: 1\n",
      "Item de la lista: 22.3\n",
      "Item de la lista: False\n",
      "Item de la lista: Hola\n",
      "Item de la lista: H\n",
      "Item de la lista: Nuevo\n",
      "Item de la lista2: Nuevo\n",
      "Item de la lista2: Nuevo\n",
      "Item de la lista: [1, 22.3, False, 'Hola', 'H', 'Nuevo']\n"
     ]
    }
   ],
   "source": [
    "lista2 = [1, 22.3, False, \"Hola\", \"H\"]\n",
    "#Nos conviene utilizar un for each\n",
    "for i in lista2:\n",
    "    print(\"Item de la lista: {}\".format(i))\n",
    "#agregar elementos a la lista\n",
    "lista2.append(\"Nuevo\")\n",
    "for i in lista2:\n",
    "    print(\"Item de la lista: {}\".format(i))\n",
    "#cosultar Items individuales\n",
    "print(\"Item de la lista2: {}\".format(lista2[5]))\n",
    "print(\"Item de la lista2: {}\".format(lista2[-1]))\n",
    "\n",
    "#podemos agregar una lista como parte de otra lista \n",
    "#lista agregar lista2\n",
    "lista.append(lista2)\n",
    "for i in lista:\n",
    "    print(\"Item de la lista: {}\".format(i))\n"
   ]
  },
  {
   "cell_type": "markdown",
   "metadata": {},
   "source": [
    "# ----------------------clase de pandas---------------------- "
   ]
  },
  {
   "cell_type": "code",
   "execution_count": null,
   "metadata": {},
   "outputs": [],
   "source": []
  }
 ],
 "metadata": {
  "kernelspec": {
   "display_name": "Python 3",
   "language": "python",
   "name": "python3"
  },
  "language_info": {
   "codemirror_mode": {
    "name": "ipython",
    "version": 3
   },
   "file_extension": ".py",
   "mimetype": "text/x-python",
   "name": "python",
   "nbconvert_exporter": "python",
   "pygments_lexer": "ipython3",
   "version": "3.12.0"
  }
 },
 "nbformat": 4,
 "nbformat_minor": 2
}
